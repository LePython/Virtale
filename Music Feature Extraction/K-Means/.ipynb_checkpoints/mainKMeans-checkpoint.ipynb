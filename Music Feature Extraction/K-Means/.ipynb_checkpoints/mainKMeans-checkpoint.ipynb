{
 "cells": [
  {
   "cell_type": "code",
   "execution_count": 3,
   "metadata": {},
   "outputs": [],
   "source": [
    "%matplotlib inline\n",
    "import matplotlib.pyplot as plt\n",
    "import pandas as pd\n",
    "import numpy as np\n",
    "\n",
    "from sklearn.decomposition import PCA as sklearnPCA\n",
    "from sklearn.cluster import KMeans\n"
   ]
  },
  {
   "cell_type": "code",
   "execution_count": 4,
   "metadata": {},
   "outputs": [
    {
     "name": "stdout",
     "output_type": "stream",
     "text": [
      "(15, 5)\n",
      "99.384\n"
     ]
    },
    {
     "data": {
      "image/png": "[encoded data removed]",
      "text/plain": [
       "<Figure size 432x288 with 1 Axes>"
      ]
     },
     "metadata": {
      "needs_background": "light"
     },
     "output_type": "display_data"
    }
   ],
   "source": [
    "df = pd.read_csv(\"df_features.csv\")\n",
    "\n",
    "print(df.shape)\n",
    "print(df)\n",
    "\n",
    "df_np = np.array(df)\n",
    "\n",
    "print(df_np[0][1])\n",
    "plt.scatter(df_np[:,1],df_np[:,2], s=50)\n",
    "\n",
    "plt.ylabel(\"spectral_contrast_2_mean\")\n",
    "plt.xlabel(\"mfccs_4_mean\")\n",
    "\n",
    "plt.savefig(\"2dTest.png\", dpi=200)\n",
    "plt.show()"
   ]
  },
  {
   "cell_type": "code",
   "execution_count": 12,
   "metadata": {},
   "outputs": [],
   "source": [
    "# Liednamen aus dem Array entfernen\n",
    "feature_array = np.delete(df_np, 0, 1)\n",
    "feature_array = np.delete(df_np, 0, 1)\n",
    "\n",
    "# Die Features umskalieren, um Werte zwischen 0 und 1 zu bekommen [0,1]\n",
    "X_norm = (feature_array - feature_array.min())/(feature_array.max() - feature_array.min())\n"
   ]
  },
  {
   "cell_type": "code",
   "execution_count": 13,
   "metadata": {
    "scrolled": true
   },
   "outputs": [
    {
     "name": "stdout",
     "output_type": "stream",
     "text": [
      "(15, 4)\n",
      "[[0.66880222 0.19765657 0.13445518 0.30223899]\n",
      " [0.84086155 0.19615046 0.11321612 0.3099803 ]]\n",
      "[0 1 0 1 0 0 1 1 1 1 1 0 0 1 0]\n",
      "coordinate:  [0.6221381169639154 0.21409166321028616 0.14981854002488593\n",
      " 0.32214848610535046] label:  0 song:  21 Savage, Offset, Metro Boomin - Ric Flair Drip.mp3\n",
      "coordinate:  [0.7767160929075072 0.20472832849440067 0.12522293654085442\n",
      " 0.37215885524678555] label:  1 song:  6LACK - Pretty Little Fears ft. J. Cole (Official Music Video).mp3\n",
      "coordinate:  [0.6427467855661552 0.2042928245541269 0.13492326835338034\n",
      " 0.38937163002903363] label:  0 song:  Abacus ft. Cimone - Everybody's Got To Learn Sometime (I Need Your Loving).mp3\n",
      "coordinate:  [0.8119711737868105 0.20011924512650356 0.10961219411032766\n",
      " 0.38814288676897557] label:  1 song:  Arizona Zervas - Zone (ft. John Wolf).mp3\n",
      "coordinate:  [0.715823309829946 0.19899419328079637 0.12687681459975114\n",
      " 0.20173164661965987] label:  0 song:  Bachman Turner Overdrive - You Ain't Seen Nothing Yet.mp3\n",
      "coordinate:  [0.553437370385732 0.18738593944421403 0.11318436333471589\n",
      " 0.3261250518457071] label:  0 song:  Barely Alive - Warrior (ft. Mad Hed City).mp3\n",
      "coordinate:  [1.0 0.18432185815014518 0.1726047283284944 0.32918913313977605] label:  1 song:  bassnectar - bass head.mp3\n",
      "coordinate:  [0.8119711737868105 0.18217026130236416 0.16115201161343842\n",
      " 0.23275611779344674] label:  1 song:  bassnectar - cozza frenzy ( mega bass remix ).mp3\n",
      "coordinate:  [0.8119711737868105 0.20220862712567397 0.11828079635006222\n",
      " 0.3199865201161344] label:  1 song:  Bassnectar - Magical World feat. Nelly Furtado (Official).mp3\n",
      "coordinate:  [0.8119711737868105 0.20003110742430527 0.0 0.3002695976773123] label:  1 song:  bassnectar - underwater ft. tina malia.mp3\n",
      "coordinate:  [0.8511457901285774 0.19151285773537952 0.0998600165906263\n",
      " 0.22809000414765657] label:  1 song:  benny benassi - cinema ( skrillex remix ).mp3\n",
      "coordinate:  [0.715823309829946 0.18794587308170888 0.11406574035669848\n",
      " 0.28156366652841147] label:  0 song:  Bensley - Do It Again (ft. Armanni Reign).mp3\n",
      "coordinate:  [0.715823309829946 0.2022449191206968 0.1411499377851514\n",
      " 0.3365356698465367] label:  0 song:  Bert H & Edlan - Intercept.mp3\n",
      "coordinate:  [0.8511457901285774 0.20411136457901286 0.11899626710908338\n",
      " 0.3092492741600995] label:  1 song:  Big L.C.T. - Trendsetter.mp3\n",
      "coordinate:  [0.715823309829946 0.1886406055578598 0.16116756532559107\n",
      " 0.25819680630443803] label:  0 song:  Black Sun Empire & State Of Mind - Caterpillar (Drumsound & Bassline Smith Remix).mp3\n"
     ]
    },
    {
     "data": {
      "image/png": "[encoded data removed]",
      "text/plain": [
       "<Figure size 432x288 with 1 Axes>"
      ]
     },
     "metadata": {
      "needs_background": "light"
     },
     "output_type": "display_data"
    }
   ],
   "source": [
    "# \n",
    "print(X_norm.shape)\n",
    "kmeans = KMeans(n_clusters = 2, random_state = 0)\n",
    "kmeans.fit(X_norm)\n",
    "\n",
    "centroids = kmeans.cluster_centers_\n",
    "labels = kmeans.labels_\n",
    "\n",
    "print(centroids)\n",
    "print(labels)\n",
    "\n",
    "colors = [\"g.\",\"r.\",\"b.\",\"y.\", \"#4286f4\", \"#20267c\", \"#961c92\", \"#a00e6d\", \"#3faf07\", \"#91ce16\", \"#adaa0d\"]\n",
    "\n",
    "for i in range(len(X_norm)):\n",
    "    print(\"coordinate: \", X_norm[i], \"label: \", labels[i], \"song: \", df_np[i][0])\n",
    "    plt.plot(X_norm[i][1],X_norm[i][3], colors[labels[i]], markersize = 10)\n",
    "\n",
    "plt.scatter(centroids[:,1], centroids[:,3], color = \"black\", marker = \"x\", s=150, linewidths = 5, zorder = 10)\n",
    "plt.show()"
   ]
  },
  {
   "cell_type": "code",
   "execution_count": 14,
   "metadata": {},
   "outputs": [
    {
     "data": {
      "image/png": "[encoded data removed]",
      "text/plain": [
       "<Figure size 432x288 with 1 Axes>"
      ]
     },
     "metadata": {
      "needs_background": "light"
     },
     "output_type": "display_data"
    }
   ],
   "source": [
    "# Wie viele Lieder gehören jeder Gruppe zu\n",
    "a = np.array(labels) \n",
    "plt.hist(a, bins = [0,1,2,3,4,5,6,7,8,9]) \n",
    "plt.title(\"histogram\") \n",
    "plt.show()"
   ]
  },
  {
   "cell_type": "code",
   "execution_count": null,
   "metadata": {},
   "outputs": [],
   "source": []
  }
 ],
 "metadata": {
  "kernelspec": {
   "display_name": "Python 3",
   "language": "python",
   "name": "python3"
  },
  "language_info": {
   "codemirror_mode": {
    "name": "ipython",
    "version": 3
   },
   "file_extension": ".py",
   "mimetype": "text/x-python",
   "name": "python",
   "nbconvert_exporter": "python",
   "pygments_lexer": "ipython3",
   "version": "3.6.6"
  }
 },
 "nbformat": 4,
 "nbformat_minor": 2
}
